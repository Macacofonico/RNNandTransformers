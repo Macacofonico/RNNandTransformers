{
 "cells": [
  {
   "cell_type": "code",
   "execution_count": 1,
   "id": "466a1ecb",
   "metadata": {},
   "outputs": [
    {
     "name": "stderr",
     "output_type": "stream",
     "text": [
      "2021-07-19 21:07:51.858739: W tensorflow/stream_executor/platform/default/dso_loader.cc:64] Could not load dynamic library 'libcudart.so.11.0'; dlerror: libcudart.so.11.0: cannot open shared object file: No such file or directory\n",
      "2021-07-19 21:07:51.858778: I tensorflow/stream_executor/cuda/cudart_stub.cc:29] Ignore above cudart dlerror if you do not have a GPU set up on your machine.\n"
     ]
    }
   ],
   "source": [
    "import numpy as np\n",
    "import pandas as pd\n",
    "import tensorflow as tf\n",
    "#from tensorflow.keras.datasets import imdb\n",
    "from tensorflow.keras.models import Sequential\n",
    "from tensorflow.keras.layers import Embedding, SimpleRNN, Dense, LSTM, Dropout\n",
    "#from tensorflow.keras.utils import plot_model\n",
    "#from tensorflow.keras.preprocessing import sequence\n",
    "\n",
    "import matplotlib.pyplot as plt"
   ]
  },
  {
   "cell_type": "code",
   "execution_count": 2,
   "id": "15db43ad",
   "metadata": {
    "scrolled": true
   },
   "outputs": [
    {
     "name": "stdout",
     "output_type": "stream",
     "text": [
      "Devices List:  []\n",
      "Is built with CUDA: True\n"
     ]
    },
    {
     "name": "stderr",
     "output_type": "stream",
     "text": [
      "2021-07-19 21:07:53.277982: W tensorflow/stream_executor/platform/default/dso_loader.cc:64] Could not load dynamic library 'libcuda.so.1'; dlerror: libcuda.so.1: cannot open shared object file: No such file or directory\n",
      "2021-07-19 21:07:53.278045: W tensorflow/stream_executor/cuda/cuda_driver.cc:326] failed call to cuInit: UNKNOWN ERROR (303)\n",
      "2021-07-19 21:07:53.278073: I tensorflow/stream_executor/cuda/cuda_diagnostics.cc:156] kernel driver does not appear to be running on this host (3383a395dced): /proc/driver/nvidia/version does not exist\n"
     ]
    }
   ],
   "source": [
    "print('Devices List: ', tf.config.list_physical_devices('GPU'))\n",
    "print('Is built with CUDA:', tf.test.is_built_with_cuda())"
   ]
  },
  {
   "cell_type": "code",
   "execution_count": 3,
   "id": "e9aa690e",
   "metadata": {},
   "outputs": [],
   "source": [
    "# Balance the clusters\n",
    "\n",
    "def balance_df(df1, df2, random_state = 42):\n",
    "    df = (df1, df2)\n",
    "    lenght = (len(df[0]), len(df[1]))\n",
    "    idx = np.argmin([lenght[0], lenght[1]])\n",
    "    return pd.concat([df[idx], df[1-idx].sample(lenght[idx], random_state=random_state)], axis = 0)"
   ]
  },
  {
   "cell_type": "code",
   "execution_count": 4,
   "id": "da71fc84",
   "metadata": {},
   "outputs": [],
   "source": [
    "# Remove regulars expressions\n",
    "\n",
    "import re\n",
    "import string\n",
    "def custom_preprocessor(text):\n",
    "    '''\n",
    "    Make text lowercase, remove text in square brackets,remove links,remove special characters\n",
    "    and remove words containing numbers.\n",
    "    '''\n",
    "    text = text.lower()\n",
    "    text = re.sub('u.s.', 'usa', text)\n",
    "    text = re.sub('reuters', '', text)\n",
    "    text = re.sub('can\\'t', 'cant', text)\n",
    "    text = re.sub('\\[.*?\\]', '', text)\n",
    "    text = re.sub(\"\\\\W\",\" \",text) # remove special chars\n",
    "    text = re.sub('https?://\\S+|www\\.\\S+', '', text)\n",
    "    text = re.sub('<.*?>+', '', text)\n",
    "    text = re.sub('[%s]' % re.escape(string.punctuation), '', text)\n",
    "    text = re.sub('\\n', '', text)\n",
    "    text = re.sub('\\w*\\d\\w*', '', text)\n",
    "\n",
    "    return text"
   ]
  },
  {
   "cell_type": "code",
   "execution_count": 5,
   "id": "e8a00de9",
   "metadata": {},
   "outputs": [],
   "source": [
    "fake_news = pd.read_csv('Fake.csv')\n",
    "true_news = pd.read_csv('True.csv')\n",
    "\n",
    "fake_news['target'] = 0\n",
    "true_news['target'] = 1\n",
    "\n",
    "news = balance_df(fake_news, true_news)\n",
    "news['text'] = news['text'].apply(custom_preprocessor)\n",
    "news['title'] = news['title'].apply(custom_preprocessor)"
   ]
  },
  {
   "cell_type": "code",
   "execution_count": 6,
   "id": "ad703884",
   "metadata": {},
   "outputs": [],
   "source": [
    "from sklearn.model_selection import train_test_split\n",
    "\n",
    "feature = 'title'\n",
    "target = 'target'\n",
    "\n",
    "X = news[[feature, target]]\n",
    "\n",
    "X_train, X_val = train_test_split(X,random_state=42,test_size=0.2)\n",
    "X_train,X_test = train_test_split(X_train,random_state=42,test_size=0.2)"
   ]
  },
  {
   "cell_type": "code",
   "execution_count": 7,
   "id": "c02e1be3",
   "metadata": {},
   "outputs": [],
   "source": [
    "# Save preprocessed set for future use.\n",
    "\n",
    "X_train.to_csv('train_rnn.csv', index=False)\n",
    "X_val.to_csv('validation_rnn.csv', index=False)\n",
    "X_test.to_csv('test_rnn.csv', index=False)"
   ]
  },
  {
   "cell_type": "code",
   "execution_count": 8,
   "id": "66b8ec37",
   "metadata": {},
   "outputs": [],
   "source": [
    "train = pd.read_csv(\"train_rnn.csv\")\n",
    "validation = pd.read_csv(\"validation_rnn.csv\")\n",
    "test = pd.read_csv(\"test_rnn.csv\")"
   ]
  },
  {
   "cell_type": "code",
   "execution_count": 9,
   "id": "539f5759",
   "metadata": {},
   "outputs": [],
   "source": [
    "# https://www.tensorflow.org/api_docs/python/tf/keras/layers/experimental/preprocessing/TextVectorization\n",
    "from tensorflow.keras.layers.experimental.preprocessing import TextVectorization"
   ]
  },
  {
   "cell_type": "code",
   "execution_count": 10,
   "id": "f1462c86",
   "metadata": {},
   "outputs": [],
   "source": [
    "maxlen = 50 # max sequence len before truncation  \n",
    "batch_size = 32"
   ]
  },
  {
   "cell_type": "code",
   "execution_count": 11,
   "id": "a5fde1e0",
   "metadata": {},
   "outputs": [
    {
     "name": "stderr",
     "output_type": "stream",
     "text": [
      "2021-07-19 21:08:10.489408: I tensorflow/core/platform/cpu_feature_guard.cc:142] This TensorFlow binary is optimized with oneAPI Deep Neural Network Library (oneDNN) to use the following CPU instructions in performance-critical operations:  AVX2 FMA\n",
      "To enable them in other operations, rebuild TensorFlow with the appropriate compiler flags.\n",
      "2021-07-19 21:08:10.544184: I tensorflow/compiler/mlir/mlir_graph_optimization_pass.cc:176] None of the MLIR Optimization Passes are enabled (registered 2)\n",
      "2021-07-19 21:08:10.544919: I tensorflow/core/platform/profile_utils/cpu_utils.cc:114] CPU Frequency: 3696010000 Hz\n"
     ]
    }
   ],
   "source": [
    "vectorizer = TextVectorization(output_sequence_length=maxlen)\n",
    "text_ds = tf.data.Dataset.from_tensor_slices(train[feature]).batch(128)\n",
    "vectorizer.adapt(text_ds)"
   ]
  },
  {
   "cell_type": "code",
   "execution_count": 12,
   "id": "4751e87d",
   "metadata": {},
   "outputs": [],
   "source": [
    "voc = vectorizer.get_vocabulary()\n",
    "word_index = dict(zip(voc, range(len(voc))))"
   ]
  },
  {
   "cell_type": "code",
   "execution_count": 13,
   "id": "fdf2f91c",
   "metadata": {},
   "outputs": [],
   "source": [
    "train_feature = vectorizer(X_train[feature])\n",
    "train_label = tf.convert_to_tensor(X_train[target])\n",
    "\n",
    "validation_feature = vectorizer(X_val[feature])\n",
    "validation_label = tf.convert_to_tensor(X_val[target])\n",
    "\n",
    "test_feature = vectorizer(X_test[feature])\n",
    "test_label = tf.convert_to_tensor(X_test[target])"
   ]
  },
  {
   "cell_type": "code",
   "execution_count": 14,
   "id": "1d101fd7",
   "metadata": {},
   "outputs": [],
   "source": [
    "max_features = len(word_index) + 1 # number of words to consider as features  "
   ]
  },
  {
   "cell_type": "code",
   "execution_count": 15,
   "id": "2d5df2b6",
   "metadata": {},
   "outputs": [],
   "source": [
    "def make_model(max_features):\n",
    "    model = Sequential()\n",
    "    model.add(Embedding(max_features, 16))\n",
    "    model.add(Dense(32, activation='relu'))\n",
    "    model.add(Dropout(0.5))\n",
    "    model.add(Dense(32, activation='relu'))\n",
    "    model.add(Dropout(0.5))\n",
    "    model.add(LSTM(32, recurrent_dropout = 0.2))\n",
    "    model.add(Dense(1, activation='sigmoid'))\n",
    "\n",
    "    model.compile(optimizer='rmsprop',\n",
    "                #loss='binary_crossentropy',\n",
    "                #metrics=['acc']\n",
    "                #loss=tf.keras.losses.SparseCategoricalCrossentropy(from_logits=True),\n",
    "                #metrics=tf.metrics.SparseCategoricalAccuracy(),\n",
    "                loss=tf.keras.losses.BinaryCrossentropy(),\n",
    "                metrics=tf.keras.metrics.BinaryAccuracy()\n",
    "                 )\n",
    "    \n",
    "    return model"
   ]
  },
  {
   "cell_type": "code",
   "execution_count": null,
   "id": "0abd68f3",
   "metadata": {},
   "outputs": [],
   "source": []
  },
  {
   "cell_type": "code",
   "execution_count": 16,
   "id": "89c1e17a",
   "metadata": {},
   "outputs": [
    {
     "name": "stdout",
     "output_type": "stream",
     "text": [
      "Model: \"sequential\"\n",
      "_________________________________________________________________\n",
      "Layer (type)                 Output Shape              Param #   \n",
      "=================================================================\n",
      "embedding (Embedding)        (None, None, 16)          291120    \n",
      "_________________________________________________________________\n",
      "dense (Dense)                (None, None, 32)          544       \n",
      "_________________________________________________________________\n",
      "dropout (Dropout)            (None, None, 32)          0         \n",
      "_________________________________________________________________\n",
      "dense_1 (Dense)              (None, None, 32)          1056      \n",
      "_________________________________________________________________\n",
      "dropout_1 (Dropout)          (None, None, 32)          0         \n",
      "_________________________________________________________________\n",
      "lstm (LSTM)                  (None, 32)                8320      \n",
      "_________________________________________________________________\n",
      "dense_2 (Dense)              (None, 1)                 33        \n",
      "=================================================================\n",
      "Total params: 301,073\n",
      "Trainable params: 301,073\n",
      "Non-trainable params: 0\n",
      "_________________________________________________________________\n"
     ]
    }
   ],
   "source": [
    "model = make_model(max_features)\n",
    "model.summary()"
   ]
  },
  {
   "cell_type": "code",
   "execution_count": 17,
   "id": "e5fb0252",
   "metadata": {},
   "outputs": [
    {
     "name": "stdout",
     "output_type": "stream",
     "text": [
      "Epoch 1/6\n",
      "54/54 [==============================] - 6s 66ms/step - loss: 0.5899 - binary_accuracy: 0.6501 - val_loss: 0.3742 - val_binary_accuracy: 0.8814\n",
      "Epoch 2/6\n",
      "54/54 [==============================] - 3s 60ms/step - loss: 0.2900 - binary_accuracy: 0.9022 - val_loss: 0.2849 - val_binary_accuracy: 0.8965\n",
      "Epoch 3/6\n",
      "54/54 [==============================] - 3s 60ms/step - loss: 0.1939 - binary_accuracy: 0.9344 - val_loss: 0.1402 - val_binary_accuracy: 0.9524\n",
      "Epoch 4/6\n",
      "54/54 [==============================] - 3s 57ms/step - loss: 0.1495 - binary_accuracy: 0.9475 - val_loss: 0.1389 - val_binary_accuracy: 0.9510\n",
      "Epoch 5/6\n",
      "54/54 [==============================] - 3s 59ms/step - loss: 0.1117 - binary_accuracy: 0.9616 - val_loss: 0.1289 - val_binary_accuracy: 0.9492\n",
      "Epoch 6/6\n",
      "54/54 [==============================] - 3s 58ms/step - loss: 0.0933 - binary_accuracy: 0.9688 - val_loss: 0.1072 - val_binary_accuracy: 0.9603\n"
     ]
    }
   ],
   "source": [
    "history = model.fit(train_feature, train_label,\n",
    "                    epochs=6,\n",
    "                    batch_size=512,\n",
    "                    #validation_split=0.4\n",
    "                    validation_data=(validation_feature, validation_label)\n",
    "                   )"
   ]
  },
  {
   "cell_type": "code",
   "execution_count": 18,
   "id": "96c61a1c",
   "metadata": {},
   "outputs": [
    {
     "data": {
      "image/png": "[encoded data removed]",
      "text/plain": [
       "<Figure size 1008x360 with 1 Axes>"
      ]
     },
     "metadata": {
      "needs_background": "light"
     },
     "output_type": "display_data"
    }
   ],
   "source": [
    "pd.DataFrame(history.history).plot(figsize = (14,5))\n",
    "plt.grid(True)"
   ]
  },
  {
   "cell_type": "code",
   "execution_count": 19,
   "id": "6ef13e19",
   "metadata": {},
   "outputs": [
    {
     "name": "stdout",
     "output_type": "stream",
     "text": [
      "215/215 [==============================] - 3s 12ms/step - loss: 0.1054 - binary_accuracy: 0.9634\n"
     ]
    },
    {
     "data": {
      "text/plain": [
       "[0.10537861287593842, 0.9633790254592896]"
      ]
     },
     "execution_count": 19,
     "metadata": {},
     "output_type": "execute_result"
    }
   ],
   "source": [
    "evaluate_prediction = model.evaluate(test_feature, test_label)\n",
    "evaluate_prediction"
   ]
  },
  {
   "cell_type": "code",
   "execution_count": 20,
   "id": "c0fe0149",
   "metadata": {},
   "outputs": [],
   "source": [
    "solution = pd.DataFrame(model.predict(test_feature).round(), columns = ['predict'])\n",
    "solution['predict'] = solution['predict'].apply(lambda x: int(x))"
   ]
  },
  {
   "cell_type": "code",
   "execution_count": null,
   "id": "5e2ca7b3",
   "metadata": {},
   "outputs": [],
   "source": []
  },
  {
   "cell_type": "code",
   "execution_count": 21,
   "id": "c24c9f0c",
   "metadata": {},
   "outputs": [],
   "source": [
    "test_join_solution = X_test.reset_index().join(solution)\n",
    "test_join_solution['delta'] = test_join_solution['predict'] - test_join_solution['target']"
   ]
  },
  {
   "cell_type": "code",
   "execution_count": 22,
   "id": "f0cb13ac",
   "metadata": {},
   "outputs": [
    {
     "data": {
      "text/html": [
       "<div>\n",
       "<style scoped>\n",
       "    .dataframe tbody tr th:only-of-type {\n",
       "        vertical-align: middle;\n",
       "    }\n",
       "\n",
       "    .dataframe tbody tr th {\n",
       "        vertical-align: top;\n",
       "    }\n",
       "\n",
       "    .dataframe thead th {\n",
       "        text-align: right;\n",
       "    }\n",
       "</style>\n",
       "<table border=\"1\" class=\"dataframe\">\n",
       "  <thead>\n",
       "    <tr style=\"text-align: right;\">\n",
       "      <th></th>\n",
       "      <th>index</th>\n",
       "      <th>title</th>\n",
       "      <th>target</th>\n",
       "      <th>predict</th>\n",
       "    </tr>\n",
       "    <tr>\n",
       "      <th>delta</th>\n",
       "      <th></th>\n",
       "      <th></th>\n",
       "      <th></th>\n",
       "      <th></th>\n",
       "    </tr>\n",
       "  </thead>\n",
       "  <tbody>\n",
       "    <tr>\n",
       "      <th>-1</th>\n",
       "      <td>104</td>\n",
       "      <td>104</td>\n",
       "      <td>104</td>\n",
       "      <td>104</td>\n",
       "    </tr>\n",
       "    <tr>\n",
       "      <th>0</th>\n",
       "      <td>6603</td>\n",
       "      <td>6603</td>\n",
       "      <td>6603</td>\n",
       "      <td>6603</td>\n",
       "    </tr>\n",
       "    <tr>\n",
       "      <th>1</th>\n",
       "      <td>147</td>\n",
       "      <td>147</td>\n",
       "      <td>147</td>\n",
       "      <td>147</td>\n",
       "    </tr>\n",
       "  </tbody>\n",
       "</table>\n",
       "</div>"
      ],
      "text/plain": [
       "       index  title  target  predict\n",
       "delta                               \n",
       "-1       104    104     104      104\n",
       " 0      6603   6603    6603     6603\n",
       " 1       147    147     147      147"
      ]
     },
     "execution_count": 22,
     "metadata": {},
     "output_type": "execute_result"
    }
   ],
   "source": [
    "test_join_solution.groupby(['delta']).count()"
   ]
  },
  {
   "cell_type": "code",
   "execution_count": 23,
   "id": "824a5293",
   "metadata": {},
   "outputs": [],
   "source": [
    "df_confusion = pd.crosstab(test_join_solution['target'], test_join_solution['predict'])"
   ]
  },
  {
   "cell_type": "code",
   "execution_count": null,
   "id": "9876477a",
   "metadata": {},
   "outputs": [],
   "source": []
  },
  {
   "cell_type": "code",
   "execution_count": 24,
   "id": "d0a0b0c9",
   "metadata": {},
   "outputs": [
    {
     "data": {
      "text/html": [
       "<div>\n",
       "<style scoped>\n",
       "    .dataframe tbody tr th:only-of-type {\n",
       "        vertical-align: middle;\n",
       "    }\n",
       "\n",
       "    .dataframe tbody tr th {\n",
       "        vertical-align: top;\n",
       "    }\n",
       "\n",
       "    .dataframe thead th {\n",
       "        text-align: right;\n",
       "    }\n",
       "</style>\n",
       "<table border=\"1\" class=\"dataframe\">\n",
       "  <thead>\n",
       "    <tr style=\"text-align: right;\">\n",
       "      <th>predict</th>\n",
       "      <th>0</th>\n",
       "      <th>1</th>\n",
       "    </tr>\n",
       "    <tr>\n",
       "      <th>target</th>\n",
       "      <th></th>\n",
       "      <th></th>\n",
       "    </tr>\n",
       "  </thead>\n",
       "  <tbody>\n",
       "    <tr>\n",
       "      <th>0</th>\n",
       "      <td>3302</td>\n",
       "      <td>147</td>\n",
       "    </tr>\n",
       "    <tr>\n",
       "      <th>1</th>\n",
       "      <td>104</td>\n",
       "      <td>3301</td>\n",
       "    </tr>\n",
       "  </tbody>\n",
       "</table>\n",
       "</div>"
      ],
      "text/plain": [
       "predict     0     1\n",
       "target             \n",
       "0        3302   147\n",
       "1         104  3301"
      ]
     },
     "execution_count": 24,
     "metadata": {},
     "output_type": "execute_result"
    }
   ],
   "source": [
    "df_confusion"
   ]
  },
  {
   "cell_type": "code",
   "execution_count": 25,
   "id": "e0c79537",
   "metadata": {},
   "outputs": [
    {
     "data": {
      "text/plain": [
       "0.9633790487306683"
      ]
     },
     "execution_count": 25,
     "metadata": {},
     "output_type": "execute_result"
    }
   ],
   "source": [
    "test_accuracy = 1 - (df_confusion[0][1] + df_confusion[1][0]) / df_confusion.sum().sum()\n",
    "test_accuracy"
   ]
  }
 ],
 "metadata": {
  "kernelspec": {
   "display_name": "Python 3 (ipykernel)",
   "language": "python",
   "name": "python3"
  },
  "language_info": {
   "codemirror_mode": {
    "name": "ipython",
    "version": 3
   },
   "file_extension": ".py",
   "mimetype": "text/x-python",
   "name": "python",
   "nbconvert_exporter": "python",
   "pygments_lexer": "ipython3",
   "version": "3.9.5"
  }
 },
 "nbformat": 4,
 "nbformat_minor": 5
}
